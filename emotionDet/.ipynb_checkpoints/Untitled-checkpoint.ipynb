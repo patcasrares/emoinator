{
 "cells": [
  {
   "cell_type": "code",
   "execution_count": null,
   "id": "national-zoning",
   "metadata": {},
   "outputs": [],
   "source": [
    "from fer import FER\n",
    "import cv2\n",
    "\n",
    "img = cv2.imread(\"test/test/angry/PrivateTest_10131363.jpg\")\n",
    "detector = FER()\n",
    "detector.detect_emotions(img)"
   ]
  }
 ],
 "metadata": {
  "kernelspec": {
   "display_name": "Python 3",
   "language": "python",
   "name": "python3"
  },
  "language_info": {
   "codemirror_mode": {
    "name": "ipython",
    "version": 3
   },
   "file_extension": ".py",
   "mimetype": "text/x-python",
   "name": "python",
   "nbconvert_exporter": "python",
   "pygments_lexer": "ipython3",
   "version": "3.9.2"
  }
 },
 "nbformat": 4,
 "nbformat_minor": 5
}
