{
 "cells": [
  {
   "cell_type": "code",
   "execution_count": 6,
   "id": "enhanced-glass",
   "metadata": {},
   "outputs": [
    {
     "ename": "SyntaxError",
     "evalue": "invalid syntax (<ipython-input-6-e3f0af229f3e>, line 6)",
     "output_type": "error",
     "traceback": [
      "\u001b[1;36m  File \u001b[1;32m\"<ipython-input-6-e3f0af229f3e>\"\u001b[1;36m, line \u001b[1;32m6\u001b[0m\n\u001b[1;33m    detector.detect_emotions(img)py', 0.99\u001b[0m\n\u001b[1;37m                                 ^\u001b[0m\n\u001b[1;31mSyntaxError\u001b[0m\u001b[1;31m:\u001b[0m invalid syntax\n"
     ]
    }
   ],
   "source": [
    "from fer import FER\n",
    "import cv2\n",
    "\n",
    "img = cv2.imread(\"train/train/angry/Training_10592361.jpg\")\n",
    "detector = FER()\n",
    "detector.detect_emotions(img)py', 0.99"
   ]
  }
 ],
 "metadata": {
  "kernelspec": {
   "display_name": "Python 3",
   "language": "python",
   "name": "python3"
  },
  "language_info": {
   "codemirror_mode": {
    "name": "ipython",
    "version": 3
   },
   "file_extension": ".py",
   "mimetype": "text/x-python",
   "name": "python",
   "nbconvert_exporter": "python",
   "pygments_lexer": "ipython3",
   "version": "3.9.2"
  }
 },
 "nbformat": 4,
 "nbformat_minor": 5
}
